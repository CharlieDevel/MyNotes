{
    "metadata": {
        "kernelspec": {
            "name": "SQL",
            "display_name": "SQL",
            "language": "sql"
        },
        "language_info": {
            "name": "sql",
            "version": ""
        }
    },
    "nbformat_minor": 2,
    "nbformat": 4,
    "cells": [
        {
            "cell_type": "code",
            "source": [
                "USE DB_JP_SQL_BASICO;\r\n",
                "\r\n",
                "ALTER TABLE \r\n",
                "    INSTRUCTOR\r\n",
                "ADD\r\n",
                "    NAME VARCHAR(255)"
            ],
            "metadata": {
                "azdata_cell_guid": "628c9845-4d89-4983-95f9-6f31e1b69c76",
                "language": "sql",
                "tags": []
            },
            "outputs": [
                {
                    "output_type": "display_data",
                    "data": {
                        "text/html": "Commands completed successfully."
                    },
                    "metadata": {}
                },
                {
                    "output_type": "display_data",
                    "data": {
                        "text/html": "Total execution time: 00:00:00.037"
                    },
                    "metadata": {}
                }
            ],
            "execution_count": 9
        },
        {
            "cell_type": "markdown",
            "source": [
                "# Instructor\\_Imparts"
            ],
            "metadata": {
                "language": "sql",
                "azdata_cell_guid": "5ba0a84f-dea7-4969-aaec-743c8a50291b"
            },
            "attachments": {}
        },
        {
            "cell_type": "code",
            "source": [
                "INSERT INTO INSTRUCTOR(NAME)\r\n",
                "VALUES\r\n",
                "    ('Joe Doe'),\r\n",
                "    ('Jony Dim'),\r\n",
                "    ('Jimy Dwight'),\r\n",
                "    ('Jean Sean')\r\n",
                ""
            ],
            "metadata": {
                "language": "sql",
                "azdata_cell_guid": "ae5bb356-4cc8-4daf-b075-c53457049c77"
            },
            "outputs": [
                {
                    "output_type": "display_data",
                    "data": {
                        "text/html": "(4 rows affected)"
                    },
                    "metadata": {}
                },
                {
                    "output_type": "display_data",
                    "data": {
                        "text/html": "Total execution time: 00:00:00.031"
                    },
                    "metadata": {}
                }
            ],
            "execution_count": 10
        },
        {
            "cell_type": "code",
            "source": [
                "INSERT INTO IMPARTS\r\n",
                "VALUES\r\n",
                "    (1, 1, 1, 2023, 'CS101'),\r\n",
                "    (2, 3, 1, 2023, 'PHY101'),\r\n",
                "    (3, 4, 1, 2023, 'HT101')\r\n",
                ""
            ],
            "metadata": {
                "language": "sql",
                "azdata_cell_guid": "270d1f3f-ab1c-4c39-9fe6-3867685eceb0"
            },
            "outputs": [
                {
                    "output_type": "display_data",
                    "data": {
                        "text/html": "(3 rows affected)"
                    },
                    "metadata": {}
                },
                {
                    "output_type": "display_data",
                    "data": {
                        "text/html": "Total execution time: 00:00:00.067"
                    },
                    "metadata": {}
                }
            ],
            "execution_count": 11
        },
        {
            "cell_type": "code",
            "source": [
                "SELECT IMP.ACRONYM, INS.NAME\r\n",
                "FROM IMPARTS AS IMP\r\n",
                "    INNER JOIN\r\n",
                "    INSTRUCTOR AS INS\r\n",
                "ON \r\n",
                "    INS.ID = IMP.ID"
            ],
            "metadata": {
                "language": "sql",
                "azdata_cell_guid": "2a9451fc-1ac2-4c28-9dbc-18f3b43267d9",
                "tags": []
            },
            "outputs": [
                {
                    "output_type": "display_data",
                    "data": {
                        "text/html": "(3 rows affected)"
                    },
                    "metadata": {}
                },
                {
                    "output_type": "display_data",
                    "data": {
                        "text/html": "Total execution time: 00:00:00.029"
                    },
                    "metadata": {}
                },
                {
                    "output_type": "execute_result",
                    "metadata": {},
                    "execution_count": 16,
                    "data": {
                        "application/vnd.dataresource+json": {
                            "schema": {
                                "fields": [
                                    {
                                        "name": "ACRONYM"
                                    },
                                    {
                                        "name": "NAME"
                                    }
                                ]
                            },
                            "data": [
                                {
                                    "ACRONYM": "CS101 ",
                                    "NAME": "Joe Doe"
                                },
                                {
                                    "ACRONYM": "PHY101",
                                    "NAME": "Jony Dim"
                                },
                                {
                                    "ACRONYM": "HT101 ",
                                    "NAME": "Jimy Dwight"
                                }
                            ]
                        },
                        "text/html": [
                            "<table>",
                            "<tr><th>ACRONYM</th><th>NAME</th></tr>",
                            "<tr><td>CS101 </td><td>Joe Doe</td></tr>",
                            "<tr><td>PHY101</td><td>Jony Dim</td></tr>",
                            "<tr><td>HT101 </td><td>Jimy Dwight</td></tr>",
                            "</table>"
                        ]
                    }
                }
            ],
            "execution_count": 16
        },
        {
            "cell_type": "code",
            "source": [
                "SELECT INS.NAME, COUNT(*)\r\n",
                "FROM IMPARTS AS IMP\r\n",
                "    INNER JOIN\r\n",
                "    INSTRUCTOR AS INS\r\n",
                "ON \r\n",
                "    INS.ID = IMP.ID\r\n",
                "GROUP BY\r\n",
                "    INS.NAME"
            ],
            "metadata": {
                "language": "sql",
                "azdata_cell_guid": "34f2b57e-3105-462b-a444-1d1214418a5e"
            },
            "outputs": [
                {
                    "output_type": "display_data",
                    "data": {
                        "text/html": "(3 rows affected)"
                    },
                    "metadata": {}
                },
                {
                    "output_type": "display_data",
                    "data": {
                        "text/html": "Total execution time: 00:00:00.116"
                    },
                    "metadata": {}
                },
                {
                    "output_type": "execute_result",
                    "metadata": {},
                    "execution_count": 17,
                    "data": {
                        "application/vnd.dataresource+json": {
                            "schema": {
                                "fields": [
                                    {
                                        "name": "NAME"
                                    },
                                    {
                                        "name": "(No column name)"
                                    }
                                ]
                            },
                            "data": [
                                {
                                    "NAME": "Jimy Dwight",
                                    "(No column name)": "1"
                                },
                                {
                                    "NAME": "Joe Doe",
                                    "(No column name)": "1"
                                },
                                {
                                    "NAME": "Jony Dim",
                                    "(No column name)": "1"
                                }
                            ]
                        },
                        "text/html": [
                            "<table>",
                            "<tr><th>NAME</th><th>(No column name)</th></tr>",
                            "<tr><td>Jimy Dwight</td><td>1</td></tr>",
                            "<tr><td>Joe Doe</td><td>1</td></tr>",
                            "<tr><td>Jony Dim</td><td>1</td></tr>",
                            "</table>"
                        ]
                    }
                }
            ],
            "execution_count": 17
        }
    ]
}